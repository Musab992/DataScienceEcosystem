{
 "cells": [
  {
   "cell_type": "markdown",
   "id": "53fb866d-669a-47d5-acee-ef9e35308942",
   "metadata": {},
   "source": [
    "# Data Science Tools and Ecosystem"
   ]
  },
  {
   "cell_type": "markdown",
   "id": "e34c7091-41f2-4938-ac75-5442e497cf98",
   "metadata": {},
   "source": [
    "In this notebook, Data Science Tools and Ecosystem are summarized.\n"
   ]
  },
  {
   "cell_type": "markdown",
   "id": "7f2bae1c-3a6c-415a-8862-da7a8aba22e1",
   "metadata": {},
   "source": [
    "**Objectives:**"
   ]
  },
  {
   "cell_type": "markdown",
   "id": "84af17c6-e452-4c91-830b-c0b41023229c",
   "metadata": {
    "tags": []
   },
   "source": [
    "- Introduction to the Jupyter notebook interface\n",
    "- Understanding Markdown cells\n",
    "- Popular languages for Data Science\n",
    "- Commonly used libraries for Data Science\n"
   ]
  },
  {
   "cell_type": "markdown",
   "id": "df2db851-4087-4d00-8e2d-0b744890e81a",
   "metadata": {
    "tags": []
   },
   "source": [
    "Some of the popular languages that Data Scientists use are:\n"
   ]
  },
  {
   "cell_type": "markdown",
   "id": "27e13092-2e58-41a0-9736-680571d799e6",
   "metadata": {
    "tags": []
   },
   "source": [
    "1. Python\n",
    "2. Java\n",
    "3. R"
   ]
  },
  {
   "cell_type": "markdown",
   "id": "e0525f6c-d2b3-4f70-9cf8-a2da1adcd889",
   "metadata": {},
   "source": [
    "Some of the commonly used libraries used by Data Scientists include:"
   ]
  },
  {
   "cell_type": "markdown",
   "id": "52110b13-419b-4b7d-b085-f4f36e44b7da",
   "metadata": {},
   "source": [
    "1. TensorFlow\n",
    "2. Pandas\n",
    "3. Numpy\n",
    "4. SciPy\n",
    "5. Seaborn\n"
   ]
  },
  {
   "cell_type": "markdown",
   "id": "9f0bfb99-b4e9-4d98-b85d-e53f271c20cb",
   "metadata": {
    "tags": []
   },
   "source": [
    "| Data Science Tools | \n",
    "| ----------- |\n",
    "| Jupyter Notebook | \n",
    "| Rstudio | \n",
    "| Spyder | "
   ]
  },
  {
   "cell_type": "markdown",
   "id": "2bc8e6e3-5885-4282-a9dd-c8626079a95f",
   "metadata": {},
   "source": [
    "### Below are a few examples of evaluating arithmetic expressions in Python.\n"
   ]
  },
  {
   "cell_type": "code",
   "execution_count": 4,
   "id": "2466bfeb-dcf2-4e82-946f-71ba3787e87b",
   "metadata": {
    "tags": []
   },
   "outputs": [
    {
     "data": {
      "text/plain": [
       "17"
      ]
     },
     "execution_count": 4,
     "metadata": {},
     "output_type": "execute_result"
    }
   ],
   "source": [
    "# This a simple arithmetic expression to mutiply then add integers.\n",
    "simple_arithimetic = (3*4)+5\n",
    "simple_arithimetic"
   ]
  },
  {
   "cell_type": "code",
   "execution_count": 5,
   "id": "1312fb34-f8ec-4596-a343-8961b717f2b8",
   "metadata": {
    "tags": []
   },
   "outputs": [
    {
     "name": "stdout",
     "output_type": "stream",
     "text": [
      "3.3333333333333335 hours\n"
     ]
    }
   ],
   "source": [
    "# This will convert 200 minutes to hours by diving by 60.\n",
    "hours_to_minutes = 200/60\n",
    "print(f\"{hours_to_minutes} hours\")"
   ]
  },
  {
   "cell_type": "markdown",
   "id": "926d9f1c-0f7b-45b2-a05d-21620e468a4a",
   "metadata": {},
   "source": [
    "## Author"
   ]
  },
  {
   "cell_type": "markdown",
   "id": "95dc62b3-33de-4650-8ed1-f07ac7866bce",
   "metadata": {
    "tags": []
   },
   "source": [
    "Musab AlJahdali"
   ]
  },
  {
   "cell_type": "code",
   "execution_count": null,
   "id": "f201085a-f499-4178-a71c-ec6d36cf71c6",
   "metadata": {},
   "outputs": [],
   "source": []
  }
 ],
 "metadata": {
  "kernelspec": {
   "display_name": "Python",
   "language": "python",
   "name": "conda-env-python-py"
  },
  "language_info": {
   "codemirror_mode": {
    "name": "ipython",
    "version": 3
   },
   "file_extension": ".py",
   "mimetype": "text/x-python",
   "name": "python",
   "nbconvert_exporter": "python",
   "pygments_lexer": "ipython3",
   "version": "3.7.12"
  }
 },
 "nbformat": 4,
 "nbformat_minor": 5
}
